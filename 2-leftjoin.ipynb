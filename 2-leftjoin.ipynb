{
 "cells": [
  {
   "cell_type": "code",
   "execution_count": 1,
   "metadata": {},
   "outputs": [],
   "source": [
    "import pandas as pd\n",
    "from sqlalchemy import create_engine\n",
    "import requests\n",
    "disk_engine = create_engine('sqlite:///idmapping/idmapping.db')"
   ]
  },
  {
   "cell_type": "code",
   "execution_count": 21,
   "metadata": {},
   "outputs": [],
   "source": [
    "# ORG_NAME = \"human\"\n",
    "# ORG_NAME = \"celegans\"  # none\n",
    "# ORG_NAME = \"drosophila\"\n",
    "# ORG_NAME = \"mouse\"\n",
    "# ORG_NAME = \"rat\"\n",
    "ORG_NAME = \"zebrafish\"\n",
    "file_name = f\"out/{ORG_NAME}-no-confidence.txt\""
   ]
  },
  {
   "cell_type": "code",
   "execution_count": 10,
   "metadata": {},
   "outputs": [],
   "source": [
    "def get_scope_id(pdb_id):\n",
    "\n",
    "    api_url = f\"https://data.rcsb.org/rest/v1/core/polymer_entity_instance/{pdb_id}/A\"\n",
    "    response = requests.get(api_url)\n",
    "    test_js = response.json()\n",
    "    for my_dict in test_js['rcsb_polymer_instance_feature']:\n",
    "        if my_dict['type'] == 'SCOP':\n",
    "            if 'feature_id' in my_dict:\n",
    "                return(my_dict['feature_id'])\n",
    "            elif 'annotation_id' in my_dict:\n",
    "                return(my_dict['annotation_id'])\n",
    "            else:\n",
    "                return(\"\")\n",
    "\n",
    "# get_scope_id(\"1R21\")"
   ]
  },
  {
   "cell_type": "code",
   "execution_count": 22,
   "metadata": {},
   "outputs": [
    {
     "name": "stdout",
     "output_type": "stream",
     "text": [
      "185\n"
     ]
    }
   ],
   "source": [
    "df = pd.read_csv(file_name, names=['domainId'])\n",
    "df['domainId'] = df['domainId'].apply(lambda x: x.split(\"-\")[1])\n",
    "df.to_sql(f\"no_conf_{ORG_NAME}\", disk_engine)\n",
    "print(len(df))"
   ]
  },
  {
   "cell_type": "code",
   "execution_count": 6,
   "metadata": {},
   "outputs": [
    {
     "data": {
      "text/plain": [
       "1"
      ]
     },
     "execution_count": 6,
     "metadata": {},
     "output_type": "execute_result"
    }
   ],
   "source": [
    "# disk_engine = create_engine('sqlite:///idmapping/idmapping-exp.db')\n",
    "# file_name = \"human-no-confidence-exp.txt\"\n",
    "# df = pd.read_csv(file_name, names=['domainId'])\n",
    "# df['domainId'] = df['domainId'].apply(lambda x: x.split(\"-\")[1])\n",
    "# df.to_sql('no_conf_human_test-exp', disk_engine)"
   ]
  },
  {
   "cell_type": "code",
   "execution_count": 23,
   "metadata": {},
   "outputs": [],
   "source": [
    "with disk_engine.connect() as con:\n",
    "\n",
    "    rs_df = con.execute(\n",
    "        f\"\"\"SELECT DISTINCT data.accessionId, data.'ID Type', data.'ID' \n",
    "        FROM no_conf_{ORG_NAME}\n",
    "        LEFT JOIN data on data.accessionId = no_conf_{ORG_NAME}.domainId\n",
    "        WHERE data.'ID Type' = 'PDB'\n",
    "        \"\"\")\n",
    "    rs_df"
   ]
  },
  {
   "cell_type": "code",
   "execution_count": null,
   "metadata": {},
   "outputs": [],
   "source": [
    "rs_df['scope-id'] = rs_df['id'].apply(get_scope_id)\n",
    "rs_df"
   ]
  },
  {
   "cell_type": "code",
   "execution_count": null,
   "metadata": {},
   "outputs": [],
   "source": [
    "# pdb_df = pd.read_csv(f'out/{ORG_NAME}-mistake-pdb.csv', names=['uniprot', 'id-type', 'id'])\n",
    "# pdb_df = pdb_df[['uniprot', 'id']]\n",
    "# pdb_df['scope-id'] = pdb_df['id'].apply(get_scope_id)\n",
    "# pdb_df"
   ]
  }
 ],
 "metadata": {
  "interpreter": {
   "hash": "949777d72b0d2535278d3dc13498b2535136f6dfe0678499012e853ee9abcab1"
  },
  "kernelspec": {
   "display_name": "Python 3.9.12 64-bit",
   "language": "python",
   "name": "python3"
  },
  "language_info": {
   "codemirror_mode": {
    "name": "ipython",
    "version": 3
   },
   "file_extension": ".py",
   "mimetype": "text/x-python",
   "name": "python",
   "nbconvert_exporter": "python",
   "pygments_lexer": "ipython3",
   "version": "3.9.12"
  },
  "orig_nbformat": 4
 },
 "nbformat": 4,
 "nbformat_minor": 2
}
