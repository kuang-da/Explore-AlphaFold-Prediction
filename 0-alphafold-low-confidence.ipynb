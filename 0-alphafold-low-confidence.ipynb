{
 "cells": [
  {
   "cell_type": "code",
   "execution_count": 1,
   "metadata": {},
   "outputs": [],
   "source": [
    "from Bio.PDB import PDBParser\n",
    "import xpdb\n",
    "import gzip\n",
    "import os\n",
    "from tqdm import tqdm"
   ]
  },
  {
   "cell_type": "code",
   "execution_count": 2,
   "metadata": {},
   "outputs": [],
   "source": [
    "sloppyparser = PDBParser(\n",
    "    PERMISSIVE=True, structure_builder=xpdb.SloppyStructureBuilder()\n",
    ")"
   ]
  },
  {
   "cell_type": "code",
   "execution_count": 7,
   "metadata": {},
   "outputs": [
    {
     "name": "stderr",
     "output_type": "stream",
     "text": [
      "100%|██████████| 49328/49328 [23:46<00:00, 34.57it/s]\n"
     ]
    }
   ],
   "source": [
    "# ORG_NAME = \"human\"\n",
    "# ORG_NAME = \"celegans\"\n",
    "# ORG_NAME = \"drosophila\"\n",
    "# ORG_NAME = \"mouse\"\n",
    "# ORG_NAME = \"rat\"\n",
    "ORG_NAME = \"zebrafish\"\n",
    "\n",
    "DIR_NAME = f\"data/{ORG_NAME}\"\n",
    "res_list = []\n",
    "for f in tqdm(os.listdir(DIR_NAME)):\n",
    "    if \".pdb.\" in f:\n",
    "        with gzip.open(os.path.join(DIR_NAME, f), \"rt\") as handle:\n",
    "            structure = sloppyparser.get_structure(\"MD_system\", handle)\n",
    "\n",
    "        for model in structure.get_list():\n",
    "            for chain in model.get_list():\n",
    "                \n",
    "                n_confidence = 0\n",
    "                for residue in chain.get_list():\n",
    "                    if residue.has_id(\"CA\"):\n",
    "                        ca = residue[\"CA\"]\n",
    "                        if ca.get_bfactor() >= 70.0:\n",
    "                            n_confidence += 1\n",
    "                            break\n",
    "                if n_confidence == 0:\n",
    "                    res_list.append(f)\n",
    "        # break\n",
    "\n",
    "with open(f\"out/{ORG_NAME}-no-confidence.txt\", 'w') as f:\n",
    "    f.write(\"\\n\".join(map(str, res_list)))"
   ]
  }
 ],
 "metadata": {
  "kernelspec": {
   "display_name": "Python 3 (ipykernel)",
   "language": "python",
   "name": "python3"
  },
  "language_info": {
   "codemirror_mode": {
    "name": "ipython",
    "version": 3
   },
   "file_extension": ".py",
   "mimetype": "text/x-python",
   "name": "python",
   "nbconvert_exporter": "python",
   "pygments_lexer": "ipython3",
   "version": "3.9.12"
  },
  "orig_nbformat": 4
 },
 "nbformat": 4,
 "nbformat_minor": 2
}
